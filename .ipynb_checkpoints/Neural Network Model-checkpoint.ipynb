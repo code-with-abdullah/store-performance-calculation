{
 "cells": [
  {
   "cell_type": "markdown",
   "id": "b8086b6d",
   "metadata": {},
   "source": [
    "# Importing required packages"
   ]
  },
  {
   "cell_type": "code",
   "execution_count": 1,
   "id": "022c9f9e",
   "metadata": {},
   "outputs": [],
   "source": [
    "import numpy as np\n",
    "import pandas as pd"
   ]
  },
  {
   "cell_type": "code",
   "execution_count": 2,
   "id": "47e3e1ea",
   "metadata": {},
   "outputs": [],
   "source": [
    "from sklearn.model_selection import train_test_split\n",
    "from sklearn.metrics import confusion_matrix"
   ]
  },
  {
   "cell_type": "code",
   "execution_count": 63,
   "id": "01d9f8ba",
   "metadata": {},
   "outputs": [],
   "source": [
    "from tensorflow.keras.optimizers import Adam, SGD\n",
    "from tensorflow.keras.models import Sequential\n",
    "from tensorflow.keras.layers import Dense, LSTM, Dropout, Activation, Flatten"
   ]
  },
  {
   "cell_type": "markdown",
   "id": "0a1e3d82",
   "metadata": {},
   "source": [
    "# Importing dataset"
   ]
  },
  {
   "cell_type": "code",
   "execution_count": 5,
   "id": "67b80977",
   "metadata": {},
   "outputs": [],
   "source": [
    "dataset_path = \"data/preprocessed.csv\""
   ]
  },
  {
   "cell_type": "code",
   "execution_count": 7,
   "id": "9dcc97cc",
   "metadata": {},
   "outputs": [],
   "source": [
    "dataset = pd.read_csv(dataset_path, index_col = False)"
   ]
  },
  {
   "cell_type": "code",
   "execution_count": 8,
   "id": "7c53b6d6",
   "metadata": {},
   "outputs": [
    {
     "data": {
      "text/plain": [
       "Index(['Staff', 'Floor Space', 'Window', 'Car park', 'Demographic score',\n",
       "       '40min population', '30 min population', '20 min population',\n",
       "       '10 min population', 'Store age', 'Clearance space',\n",
       "       'Competition number', 'Competition score', 'location0', 'location1',\n",
       "       'location2', 'performance'],\n",
       "      dtype='object')"
      ]
     },
     "execution_count": 8,
     "metadata": {},
     "output_type": "execute_result"
    }
   ],
   "source": [
    "dataset.columns"
   ]
  },
  {
   "cell_type": "code",
   "execution_count": 9,
   "id": "44ed0971",
   "metadata": {},
   "outputs": [],
   "source": [
    "data = dataset.iloc[:, :].values"
   ]
  },
  {
   "cell_type": "markdown",
   "id": "cc02edba",
   "metadata": {},
   "source": [
    "# Extracting dependant and independant variables"
   ]
  },
  {
   "cell_type": "code",
   "execution_count": 10,
   "id": "5625e35b",
   "metadata": {},
   "outputs": [],
   "source": [
    "y = data[:, -1]"
   ]
  },
  {
   "cell_type": "code",
   "execution_count": 11,
   "id": "f4f5d8d3",
   "metadata": {},
   "outputs": [],
   "source": [
    "X = data[:, :-1]"
   ]
  },
  {
   "cell_type": "code",
   "execution_count": 12,
   "id": "e6b848dc",
   "metadata": {},
   "outputs": [
    {
     "data": {
      "text/plain": [
       "(134,)"
      ]
     },
     "execution_count": 12,
     "metadata": {},
     "output_type": "execute_result"
    }
   ],
   "source": [
    "y.shape"
   ]
  },
  {
   "cell_type": "code",
   "execution_count": 13,
   "id": "64f02a9c",
   "metadata": {},
   "outputs": [
    {
     "data": {
      "text/plain": [
       "(134, 16)"
      ]
     },
     "execution_count": 13,
     "metadata": {},
     "output_type": "execute_result"
    }
   ],
   "source": [
    "X.shape"
   ]
  },
  {
   "cell_type": "markdown",
   "id": "a85a3e9d",
   "metadata": {},
   "source": [
    "# Performing train test split"
   ]
  },
  {
   "cell_type": "code",
   "execution_count": 14,
   "id": "a6226595",
   "metadata": {},
   "outputs": [],
   "source": [
    "X_train, X_test, y_train, y_test = train_test_split(X, y, test_size=0.2, random_state=42)"
   ]
  },
  {
   "cell_type": "code",
   "execution_count": 122,
   "id": "c03192bb",
   "metadata": {},
   "outputs": [],
   "source": [
    "optimizer = SGD(learning_rate=0.01)"
   ]
  },
  {
   "cell_type": "code",
   "execution_count": 123,
   "id": "760ae8ac",
   "metadata": {},
   "outputs": [],
   "source": [
    "model = Sequential()\n",
    "\n",
    "model.add(Dense(16, input_shape=(X_train.shape[1],), activation=\"tanh\"))\n",
    "model.add(Dropout(0.1))\n",
    "\n",
    "model.add(Dense(32, input_shape=(X_train.shape[1],), activation=\"tanh\"))\n",
    "model.add(Dropout(0.2))\n",
    "\n",
    "model.add(Dense(64, activation=\"relu\"))\n",
    "model.add(Dropout(0.3))\n",
    "\n",
    "model.add(Dense(128, activation=\"relu\"))\n",
    "model.add(Dropout(0.5))\n",
    "\n",
    "model.add(Dense(1, activation=\"sigmoid\"))\n",
    "\n",
    "model.compile(optimizer = optimizer,loss=\"binary_crossentropy\",metrics=[\"accuracy\"])"
   ]
  },
  {
   "cell_type": "code",
   "execution_count": 124,
   "id": "36c56eac",
   "metadata": {},
   "outputs": [
    {
     "name": "stdout",
     "output_type": "stream",
     "text": [
      "Model: \"sequential_26\"\n",
      "_________________________________________________________________\n",
      " Layer (type)                Output Shape              Param #   \n",
      "=================================================================\n",
      " dense_93 (Dense)            (None, 16)                272       \n",
      "                                                                 \n",
      " dropout_62 (Dropout)        (None, 16)                0         \n",
      "                                                                 \n",
      " dense_94 (Dense)            (None, 32)                544       \n",
      "                                                                 \n",
      " dropout_63 (Dropout)        (None, 32)                0         \n",
      "                                                                 \n",
      " dense_95 (Dense)            (None, 64)                2112      \n",
      "                                                                 \n",
      " dropout_64 (Dropout)        (None, 64)                0         \n",
      "                                                                 \n",
      " dense_96 (Dense)            (None, 128)               8320      \n",
      "                                                                 \n",
      " dropout_65 (Dropout)        (None, 128)               0         \n",
      "                                                                 \n",
      " dense_97 (Dense)            (None, 1)                 129       \n",
      "                                                                 \n",
      "=================================================================\n",
      "Total params: 11,377\n",
      "Trainable params: 11,377\n",
      "Non-trainable params: 0\n",
      "_________________________________________________________________\n"
     ]
    }
   ],
   "source": [
    "model.summary()"
   ]
  },
  {
   "cell_type": "code",
   "execution_count": 125,
   "id": "5682a2a2",
   "metadata": {},
   "outputs": [
    {
     "name": "stdout",
     "output_type": "stream",
     "text": [
      "Epoch 1/50\n",
      "1/1 [==============================] - 1s 713ms/step - loss: 0.7537 - accuracy: 0.4167 - val_loss: 0.6901 - val_accuracy: 0.5714\n",
      "Epoch 2/50\n",
      "1/1 [==============================] - 0s 38ms/step - loss: 0.7178 - accuracy: 0.4750 - val_loss: 0.6902 - val_accuracy: 0.5714\n",
      "Epoch 3/50\n",
      "1/1 [==============================] - 0s 41ms/step - loss: 0.7525 - accuracy: 0.4583 - val_loss: 0.6903 - val_accuracy: 0.5714\n",
      "Epoch 4/50\n",
      "1/1 [==============================] - 0s 35ms/step - loss: 0.7216 - accuracy: 0.4750 - val_loss: 0.6903 - val_accuracy: 0.5714\n",
      "Epoch 5/50\n",
      "1/1 [==============================] - 0s 44ms/step - loss: 0.7020 - accuracy: 0.5000 - val_loss: 0.6903 - val_accuracy: 0.5714\n",
      "Epoch 6/50\n",
      "1/1 [==============================] - 0s 34ms/step - loss: 0.7246 - accuracy: 0.5083 - val_loss: 0.6904 - val_accuracy: 0.5714\n",
      "Epoch 7/50\n",
      "1/1 [==============================] - 0s 42ms/step - loss: 0.7120 - accuracy: 0.5000 - val_loss: 0.6905 - val_accuracy: 0.5714\n",
      "Epoch 8/50\n",
      "1/1 [==============================] - 0s 35ms/step - loss: 0.7070 - accuracy: 0.5083 - val_loss: 0.6906 - val_accuracy: 0.5714\n",
      "Epoch 9/50\n",
      "1/1 [==============================] - 0s 34ms/step - loss: 0.7123 - accuracy: 0.4917 - val_loss: 0.6907 - val_accuracy: 0.5714\n",
      "Epoch 10/50\n",
      "1/1 [==============================] - 0s 37ms/step - loss: 0.7069 - accuracy: 0.4833 - val_loss: 0.6908 - val_accuracy: 0.5714\n",
      "Epoch 11/50\n",
      "1/1 [==============================] - 0s 39ms/step - loss: 0.7195 - accuracy: 0.4833 - val_loss: 0.6909 - val_accuracy: 0.5714\n",
      "Epoch 12/50\n",
      "1/1 [==============================] - 0s 36ms/step - loss: 0.7171 - accuracy: 0.4667 - val_loss: 0.6910 - val_accuracy: 0.5714\n",
      "Epoch 13/50\n",
      "1/1 [==============================] - 0s 40ms/step - loss: 0.7159 - accuracy: 0.4250 - val_loss: 0.6911 - val_accuracy: 0.5714\n",
      "Epoch 14/50\n",
      "1/1 [==============================] - 0s 36ms/step - loss: 0.6942 - accuracy: 0.5583 - val_loss: 0.6913 - val_accuracy: 0.5714\n",
      "Epoch 15/50\n",
      "1/1 [==============================] - 0s 41ms/step - loss: 0.7186 - accuracy: 0.4750 - val_loss: 0.6915 - val_accuracy: 0.5714\n",
      "Epoch 16/50\n",
      "1/1 [==============================] - 0s 37ms/step - loss: 0.7131 - accuracy: 0.4750 - val_loss: 0.6916 - val_accuracy: 0.5714\n",
      "Epoch 17/50\n",
      "1/1 [==============================] - 0s 42ms/step - loss: 0.7141 - accuracy: 0.4667 - val_loss: 0.6920 - val_accuracy: 0.5714\n",
      "Epoch 18/50\n",
      "1/1 [==============================] - 0s 37ms/step - loss: 0.7057 - accuracy: 0.4583 - val_loss: 0.6922 - val_accuracy: 0.5714\n",
      "Epoch 19/50\n",
      "1/1 [==============================] - 0s 37ms/step - loss: 0.7125 - accuracy: 0.4667 - val_loss: 0.6924 - val_accuracy: 0.5000\n",
      "Epoch 20/50\n",
      "1/1 [==============================] - 0s 38ms/step - loss: 0.6927 - accuracy: 0.4667 - val_loss: 0.6926 - val_accuracy: 0.5000\n",
      "Epoch 21/50\n",
      "1/1 [==============================] - 0s 37ms/step - loss: 0.7028 - accuracy: 0.5083 - val_loss: 0.6928 - val_accuracy: 0.5000\n",
      "Epoch 22/50\n",
      "1/1 [==============================] - 0s 38ms/step - loss: 0.7158 - accuracy: 0.4500 - val_loss: 0.6930 - val_accuracy: 0.5000\n",
      "Epoch 23/50\n",
      "1/1 [==============================] - 0s 34ms/step - loss: 0.6998 - accuracy: 0.5250 - val_loss: 0.6931 - val_accuracy: 0.5000\n",
      "Epoch 24/50\n",
      "1/1 [==============================] - 0s 37ms/step - loss: 0.7069 - accuracy: 0.5083 - val_loss: 0.6932 - val_accuracy: 0.5000\n",
      "Epoch 25/50\n",
      "1/1 [==============================] - 0s 38ms/step - loss: 0.7031 - accuracy: 0.5083 - val_loss: 0.6934 - val_accuracy: 0.5000\n",
      "Epoch 26/50\n",
      "1/1 [==============================] - 0s 38ms/step - loss: 0.7104 - accuracy: 0.5167 - val_loss: 0.6936 - val_accuracy: 0.5714\n",
      "Epoch 27/50\n",
      "1/1 [==============================] - 0s 37ms/step - loss: 0.6966 - accuracy: 0.5083 - val_loss: 0.6937 - val_accuracy: 0.5714\n",
      "Epoch 28/50\n",
      "1/1 [==============================] - 0s 34ms/step - loss: 0.7026 - accuracy: 0.5417 - val_loss: 0.6940 - val_accuracy: 0.5000\n",
      "Epoch 29/50\n",
      "1/1 [==============================] - 0s 35ms/step - loss: 0.7031 - accuracy: 0.5250 - val_loss: 0.6941 - val_accuracy: 0.5000\n",
      "Epoch 30/50\n",
      "1/1 [==============================] - 0s 37ms/step - loss: 0.6930 - accuracy: 0.5417 - val_loss: 0.6944 - val_accuracy: 0.5000\n",
      "Epoch 31/50\n",
      "1/1 [==============================] - 0s 40ms/step - loss: 0.7062 - accuracy: 0.4667 - val_loss: 0.6945 - val_accuracy: 0.5000\n",
      "Epoch 32/50\n",
      "1/1 [==============================] - 0s 33ms/step - loss: 0.6978 - accuracy: 0.5083 - val_loss: 0.6947 - val_accuracy: 0.5714\n",
      "Epoch 33/50\n",
      "1/1 [==============================] - 0s 37ms/step - loss: 0.7140 - accuracy: 0.4917 - val_loss: 0.6949 - val_accuracy: 0.5714\n",
      "Epoch 34/50\n",
      "1/1 [==============================] - 0s 40ms/step - loss: 0.6977 - accuracy: 0.5250 - val_loss: 0.6951 - val_accuracy: 0.5000\n",
      "Epoch 35/50\n",
      "1/1 [==============================] - 0s 34ms/step - loss: 0.7101 - accuracy: 0.5167 - val_loss: 0.6952 - val_accuracy: 0.5000\n",
      "Epoch 36/50\n",
      "1/1 [==============================] - 0s 37ms/step - loss: 0.7007 - accuracy: 0.5167 - val_loss: 0.6954 - val_accuracy: 0.5000\n",
      "Epoch 37/50\n",
      "1/1 [==============================] - 0s 45ms/step - loss: 0.7067 - accuracy: 0.5250 - val_loss: 0.6955 - val_accuracy: 0.5000\n",
      "Epoch 38/50\n",
      "1/1 [==============================] - 0s 35ms/step - loss: 0.7298 - accuracy: 0.4333 - val_loss: 0.6956 - val_accuracy: 0.5000\n",
      "Epoch 39/50\n",
      "1/1 [==============================] - 0s 38ms/step - loss: 0.6848 - accuracy: 0.5250 - val_loss: 0.6957 - val_accuracy: 0.5000\n",
      "Epoch 40/50\n",
      "1/1 [==============================] - 0s 35ms/step - loss: 0.6894 - accuracy: 0.5750 - val_loss: 0.6959 - val_accuracy: 0.5000\n",
      "Epoch 41/50\n",
      "1/1 [==============================] - 0s 37ms/step - loss: 0.7157 - accuracy: 0.4667 - val_loss: 0.6961 - val_accuracy: 0.5000\n",
      "Epoch 42/50\n",
      "1/1 [==============================] - 0s 35ms/step - loss: 0.6820 - accuracy: 0.4917 - val_loss: 0.6962 - val_accuracy: 0.4286\n",
      "Epoch 43/50\n",
      "1/1 [==============================] - 0s 33ms/step - loss: 0.7048 - accuracy: 0.5250 - val_loss: 0.6963 - val_accuracy: 0.4286\n",
      "Epoch 44/50\n",
      "1/1 [==============================] - 0s 34ms/step - loss: 0.6892 - accuracy: 0.5417 - val_loss: 0.6966 - val_accuracy: 0.4286\n",
      "Epoch 45/50\n",
      "1/1 [==============================] - 0s 33ms/step - loss: 0.6912 - accuracy: 0.5167 - val_loss: 0.6969 - val_accuracy: 0.4286\n",
      "Epoch 46/50\n",
      "1/1 [==============================] - 0s 38ms/step - loss: 0.7093 - accuracy: 0.5083 - val_loss: 0.6972 - val_accuracy: 0.4286\n",
      "Epoch 47/50\n",
      "1/1 [==============================] - 0s 29ms/step - loss: 0.6995 - accuracy: 0.5083 - val_loss: 0.6974 - val_accuracy: 0.4286\n",
      "Epoch 48/50\n",
      "1/1 [==============================] - 0s 30ms/step - loss: 0.7205 - accuracy: 0.4500 - val_loss: 0.6976 - val_accuracy: 0.4286\n",
      "Epoch 49/50\n",
      "1/1 [==============================] - 0s 31ms/step - loss: 0.6939 - accuracy: 0.4583 - val_loss: 0.6978 - val_accuracy: 0.4286\n",
      "Epoch 50/50\n",
      "1/1 [==============================] - 0s 32ms/step - loss: 0.6979 - accuracy: 0.4667 - val_loss: 0.6980 - val_accuracy: 0.4286\n"
     ]
    }
   ],
   "source": [
    "history = model.fit(X_train,\n",
    "                    y_train,\n",
    "                    epochs = 50,\n",
    "                    batch_size = 136,\n",
    "                    validation_split=0.1)"
   ]
  },
  {
   "cell_type": "code",
   "execution_count": 126,
   "id": "04aab30b",
   "metadata": {},
   "outputs": [
    {
     "name": "stdout",
     "output_type": "stream",
     "text": [
      "1/1 [==============================] - 0s 22ms/step - loss: 0.6707 - accuracy: 0.7037\n"
     ]
    },
    {
     "data": {
      "text/plain": [
       "[0.6706612706184387, 0.7037037014961243]"
      ]
     },
     "execution_count": 126,
     "metadata": {},
     "output_type": "execute_result"
    }
   ],
   "source": [
    "model.evaluate(X_test, y_test)"
   ]
  },
  {
   "cell_type": "code",
   "execution_count": null,
   "id": "8c504f6e",
   "metadata": {},
   "outputs": [],
   "source": []
  }
 ],
 "metadata": {
  "kernelspec": {
   "display_name": "Python 3 (ipykernel)",
   "language": "python",
   "name": "python3"
  },
  "language_info": {
   "codemirror_mode": {
    "name": "ipython",
    "version": 3
   },
   "file_extension": ".py",
   "mimetype": "text/x-python",
   "name": "python",
   "nbconvert_exporter": "python",
   "pygments_lexer": "ipython3",
   "version": "3.10.8"
  }
 },
 "nbformat": 4,
 "nbformat_minor": 5
}
